{
 "cells": [
  {
   "cell_type": "markdown",
   "metadata": {},
   "source": [
    "# This notesbook is for 10/01 data bootcamp recitation\n",
    " - list comprehension\n",
    " - function\n",
    " - numpy"
   ]
  },
  {
   "cell_type": "markdown",
   "metadata": {},
   "source": [
    "### before list comprehension, let's warm up.\n",
    "We have a protfolio, find out the best asset:\n",
    "- for example, IBM with return rate 0.005\n",
    "    - `['IBM',0.005]`\n",
    "- the portfolio is a list of list\n",
    "    -`[['IBM', 0.0005], ['S&P 500', 0.001], ['Citi', -0.015], ['Facebook', -0.04], ['Apple', 0.0035]]`"
   ]
  },
  {
   "cell_type": "code",
   "execution_count": 2,
   "metadata": {},
   "outputs": [
    {
     "name": "stdout",
     "output_type": "stream",
     "text": [
      "[['IBM', 0.0005], ['S&P 500', 0.001], ['Citi', -0.015], ['Facebook', -0.04], ['Apple', 0.0035]]\n"
     ]
    }
   ],
   "source": [
    "portfolio = [['IBM',0.0005],['S&P 500',0.001],['Citi',-0.015],['Facebook',-0.04],['Apple',0.0035]]\n",
    "print(portfolio)"
   ]
  },
  {
   "cell_type": "code",
   "execution_count": 3,
   "metadata": {},
   "outputs": [],
   "source": [
    "best_asset = ''\n",
    "best_return = -100  # the worst return\n",
    "for equity in portfolio:\n",
    "    equity_name = equity[0]  # take out the name\n",
    "    equity_return = equity[1]   # take out the return\n",
    "    \n",
    "    if equity_return>best_return:  # if return is better, we update the name\n",
    "        best_asset = equity_name\n",
    "        best_return = equity_return"
   ]
  },
  {
   "cell_type": "code",
   "execution_count": 4,
   "metadata": {},
   "outputs": [
    {
     "name": "stdout",
     "output_type": "stream",
     "text": [
      "Apple\n",
      "0.0035\n"
     ]
    }
   ],
   "source": [
    "print(best_asset)\n",
    "print(best_return)"
   ]
  },
  {
   "cell_type": "markdown",
   "metadata": {},
   "source": [
    "### list comprehension\n",
    "- a better way to create list in python\n",
    "- syntax: `[ expression for item in list if conditional ]`"
   ]
  },
  {
   "cell_type": "markdown",
   "metadata": {},
   "source": [
    "###### Put all assets to a new list called `new_list`\n",
    "- use for loop to build up a list"
   ]
  },
  {
   "cell_type": "code",
   "execution_count": 5,
   "metadata": {},
   "outputs": [],
   "source": [
    "new_list_forloop = []\n",
    "for equity in portfolio:\n",
    "    new_list_forloop.append(equity)"
   ]
  },
  {
   "cell_type": "code",
   "execution_count": 6,
   "metadata": {},
   "outputs": [
    {
     "name": "stdout",
     "output_type": "stream",
     "text": [
      "[['IBM', 0.0005], ['S&P 500', 0.001], ['Citi', -0.015], ['Facebook', -0.04], ['Apple', 0.0035]]\n"
     ]
    }
   ],
   "source": [
    "print(new_list_forloop)"
   ]
  },
  {
   "cell_type": "markdown",
   "metadata": {},
   "source": [
    "- use list comprehension to build up a list"
   ]
  },
  {
   "cell_type": "code",
   "execution_count": 7,
   "metadata": {},
   "outputs": [],
   "source": [
    "new_list_listcmp = [equity for equity in portfolio]"
   ]
  },
  {
   "cell_type": "code",
   "execution_count": 8,
   "metadata": {},
   "outputs": [
    {
     "name": "stdout",
     "output_type": "stream",
     "text": [
      "[['IBM', 0.0005], ['S&P 500', 0.001], ['Citi', -0.015], ['Facebook', -0.04], ['Apple', 0.0035]]\n"
     ]
    }
   ],
   "source": [
    "print(new_list_listcmp)"
   ]
  },
  {
   "cell_type": "markdown",
   "metadata": {},
   "source": [
    "The results are same"
   ]
  },
  {
   "cell_type": "code",
   "execution_count": 9,
   "metadata": {},
   "outputs": [
    {
     "data": {
      "text/plain": [
       "True"
      ]
     },
     "execution_count": 9,
     "metadata": {},
     "output_type": "execute_result"
    }
   ],
   "source": [
    "new_list_forloop == new_list_listcmp"
   ]
  },
  {
   "cell_type": "markdown",
   "metadata": {},
   "source": [
    "###### Why should we use list comprehension to create list?\n",
    "1. readability: just one line\n",
    "1. computation time: [see](https://stackoverflow.com/questions/30245397/why-is-a-list-comprehension-so-much-faster-than-appending-to-a-list)\n",
    "1. `%%time` is a magic command, to record the execute time of the cell"
   ]
  },
  {
   "cell_type": "code",
   "execution_count": 10,
   "metadata": {},
   "outputs": [
    {
     "name": "stdout",
     "output_type": "stream",
     "text": [
      "CPU times: user 15.2 s, sys: 1.96 s, total: 17.2 s\n",
      "Wall time: 17.5 s\n"
     ]
    }
   ],
   "source": [
    "%%time\n",
    "list_forloop = []\n",
    "for i in range(10**8):\n",
    "    list_forloop.append(i)"
   ]
  },
  {
   "cell_type": "code",
   "execution_count": 11,
   "metadata": {},
   "outputs": [
    {
     "name": "stdout",
     "output_type": "stream",
     "text": [
      "CPU times: user 5.93 s, sys: 2.17 s, total: 8.1 s\n",
      "Wall time: 9.34 s\n"
     ]
    }
   ],
   "source": [
    "%%time\n",
    "list_listcmp = [i for i in range(10**8)]"
   ]
  },
  {
   "cell_type": "markdown",
   "metadata": {},
   "source": [
    "They are same, but the computation time of list comprehension is significantly less than for loop"
   ]
  },
  {
   "cell_type": "code",
   "execution_count": 12,
   "metadata": {},
   "outputs": [
    {
     "data": {
      "text/plain": [
       "True"
      ]
     },
     "execution_count": 12,
     "metadata": {},
     "output_type": "execute_result"
    }
   ],
   "source": [
    "list_forloop == list_listcmp"
   ]
  },
  {
   "cell_type": "markdown",
   "metadata": {},
   "source": [
    "### Let's redo the practice with list comprehension again\n",
    "We have a protfolio, find out the best asset...:\n",
    "- first, we create two lists\n",
    "    - one is name\n",
    "    - one is return"
   ]
  },
  {
   "cell_type": "code",
   "execution_count": 13,
   "metadata": {},
   "outputs": [],
   "source": [
    "list_name = [equity[0] for equity in portfolio]\n",
    "list_return = [equity[1] for equity in portfolio]"
   ]
  },
  {
   "cell_type": "code",
   "execution_count": 14,
   "metadata": {},
   "outputs": [
    {
     "name": "stdout",
     "output_type": "stream",
     "text": [
      "['IBM', 'S&P 500', 'Citi', 'Facebook', 'Apple']\n",
      "[0.0005, 0.001, -0.015, -0.04, 0.0035]\n"
     ]
    }
   ],
   "source": [
    "print(list_name)\n",
    "print(list_return)"
   ]
  },
  {
   "cell_type": "markdown",
   "metadata": {},
   "source": [
    "- second, find out the best return and its position\n",
    "    - use `max()` find out the best return rate\n",
    "    - use `index` to find out the position"
   ]
  },
  {
   "cell_type": "code",
   "execution_count": null,
   "metadata": {},
   "outputs": [],
   "source": [
    "best_return = max(list_return)\n",
    "best_asset_pos = list_return.index(best_return)"
   ]
  },
  {
   "cell_type": "code",
   "execution_count": null,
   "metadata": {},
   "outputs": [],
   "source": [
    "print(best_return)\n",
    "print(best_asset_pos)"
   ]
  },
  {
   "cell_type": "markdown",
   "metadata": {},
   "source": [
    "- finally, put the position back to the name list. "
   ]
  },
  {
   "cell_type": "code",
   "execution_count": null,
   "metadata": {},
   "outputs": [],
   "source": [
    "best_asset = list_name[best_asset_pos]"
   ]
  },
  {
   "cell_type": "code",
   "execution_count": null,
   "metadata": {},
   "outputs": [],
   "source": [
    "print(best_asset)"
   ]
  },
  {
   "cell_type": "markdown",
   "metadata": {},
   "source": [
    "***\n",
    "#### Advance: The one line solution, see the [document](https://docs.python.org/3.7/library/functions.html#max) for more information about `max()`"
   ]
  },
  {
   "cell_type": "code",
   "execution_count": null,
   "metadata": {},
   "outputs": [],
   "source": [
    "max([[equity[0], equity[1]] for equity in portfolio], key = lambda x:x[1])"
   ]
  },
  {
   "cell_type": "markdown",
   "metadata": {},
   "source": [
    "#### Advance: list comprehension can do more\n",
    "if you want to know more, this part is for you. Feel free just skip it.\n"
   ]
  },
  {
   "cell_type": "markdown",
   "metadata": {},
   "source": [
    "######  list comprehension can do nested for loop"
   ]
  },
  {
   "cell_type": "code",
   "execution_count": null,
   "metadata": {},
   "outputs": [],
   "source": [
    "[(i, j) for i in range(4) for j in range(i)]"
   ]
  },
  {
   "cell_type": "markdown",
   "metadata": {},
   "source": [
    "same as a nested for loop"
   ]
  },
  {
   "cell_type": "code",
   "execution_count": null,
   "metadata": {
    "code_folding": []
   },
   "outputs": [],
   "source": [
    "result = []\n",
    "for i in range(4):\n",
    "    for j in range(i):\n",
    "        result.append((i,j))\n",
    "print(result)\n"
   ]
  },
  {
   "cell_type": "markdown",
   "metadata": {},
   "source": [
    "###### list comprehension can do filtering\n",
    "- filter out the tuple, which `i` is even.\n",
    "- add filtering `if i%2==0` to the end of list comprehension"
   ]
  },
  {
   "cell_type": "code",
   "execution_count": null,
   "metadata": {},
   "outputs": [],
   "source": [
    "[(i, j) for i in range(4) for j in range(i) if i%2==0]"
   ]
  },
  {
   "cell_type": "markdown",
   "metadata": {},
   "source": [
    "###### list comprehension can do if statement\n",
    "- keep the tuple if `i-j>1`\n",
    "- else we return `Too small`"
   ]
  },
  {
   "cell_type": "code",
   "execution_count": null,
   "metadata": {},
   "outputs": [],
   "source": [
    "[(i, j) if i-j>1 else 'Too small' for i in range(4) for j in range(i)]"
   ]
  },
  {
   "cell_type": "markdown",
   "metadata": {},
   "source": [
    "***"
   ]
  },
  {
   "cell_type": "code",
   "execution_count": null,
   "metadata": {},
   "outputs": [],
   "source": []
  }
 ],
 "metadata": {
  "kernelspec": {
   "display_name": "Python 3",
   "language": "python",
   "name": "python3"
  },
  "language_info": {
   "codemirror_mode": {
    "name": "ipython",
    "version": 3
   },
   "file_extension": ".py",
   "mimetype": "text/x-python",
   "name": "python",
   "nbconvert_exporter": "python",
   "pygments_lexer": "ipython3",
   "version": "3.6.5"
  }
 },
 "nbformat": 4,
 "nbformat_minor": 2
}
